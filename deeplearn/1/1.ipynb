{
 "cells": [
  {
   "cell_type": "code",
   "execution_count": 43,
   "id": "45a39624-225c-4911-a695-abf17ad64c35",
   "metadata": {
    "scrolled": true
   },
   "outputs": [
    {
     "name": "stdout",
     "output_type": "stream",
     "text": [
      "tensor([[1.5231e+23, 1.8777e-42, 0.0000e+00],\n",
      "        [0.0000e+00, 0.0000e+00, 0.0000e+00],\n",
      "        [0.0000e+00, 0.0000e+00, 0.0000e+00],\n",
      "        [0.0000e+00, 0.0000e+00, 0.0000e+00],\n",
      "        [0.0000e+00, 0.0000e+00, 0.0000e+00]])\n"
     ]
    }
   ],
   "source": [
    "import torch\n",
    "x = torch.empty(5, 3)\n",
    "print(x)"
   ]
  },
  {
   "cell_type": "code",
   "execution_count": 45,
   "id": "d65cf499-510a-4c87-8fa2-96e37af8cc86",
   "metadata": {},
   "outputs": [
    {
     "name": "stdout",
     "output_type": "stream",
     "text": [
      "tensor([[0.0569, 0.8989, 0.7236],\n",
      "        [0.7163, 0.6939, 0.9698],\n",
      "        [0.2816, 0.5034, 0.5185],\n",
      "        [0.5709, 0.7204, 0.7111],\n",
      "        [0.3009, 0.0523, 0.5973]])\n"
     ]
    }
   ],
   "source": [
    "x = torch.rand(5, 3)\n",
    "print(x)"
   ]
  },
  {
   "cell_type": "code",
   "execution_count": 47,
   "id": "6021f85c-7421-4a50-a5f3-0ecbd9f02361",
   "metadata": {},
   "outputs": [
    {
     "name": "stdout",
     "output_type": "stream",
     "text": [
      "tensor([[0, 0, 0],\n",
      "        [0, 0, 0],\n",
      "        [0, 0, 0],\n",
      "        [0, 0, 0],\n",
      "        [0, 0, 0]])\n"
     ]
    }
   ],
   "source": [
    "#-2^63 到 2^63 - 1，大整数\n",
    "x = torch.zeros(5, 3, dtype=torch.long)\n",
    "print(x)"
   ]
  },
  {
   "cell_type": "code",
   "execution_count": 49,
   "id": "4204dee5-71a4-4f32-a003-da56afe78a82",
   "metadata": {},
   "outputs": [
    {
     "name": "stdout",
     "output_type": "stream",
     "text": [
      "tensor([5.5000, 3.0000])\n"
     ]
    }
   ],
   "source": [
    "x = torch.tensor([5.5, 3])\n",
    "print(x)"
   ]
  },
  {
   "cell_type": "code",
   "execution_count": 81,
   "id": "49cb82dd-7659-4f76-99b5-875af02a7110",
   "metadata": {},
   "outputs": [
    {
     "name": "stdout",
     "output_type": "stream",
     "text": [
      "tensor([[0, 0],\n",
      "        [0, 0],\n",
      "        [0, 0],\n",
      "        [0, 0]]) torch.int64\n",
      "tensor([[1., 1., 1.],\n",
      "        [1., 1., 1.],\n",
      "        [1., 1., 1.],\n",
      "        [1., 1., 1.],\n",
      "        [1., 1., 1.]], dtype=torch.float64) torch.float64\n",
      "tensor([0.3969, 0.9037]) torch.float32 torch.Size([2]) torch.Size([2])\n"
     ]
    }
   ],
   "source": [
    "y = torch.zeros(4, 2, dtype=torch.long)\n",
    "print(y, y.dtype)\n",
    "\n",
    "#返回的tensor默认具有相同的torch.dtype和torch.device(如果不重新指定)\n",
    "y1 = y.new_ones(5, 3, dtype=torch.float64)\n",
    "print(y1, y1.dtype)\n",
    "\n",
    "#z = torch.randn_like(6, 4, dtype=torch.float)\n",
    "z = torch.randn_like(x, dtype=torch.float)\n",
    "print(z, z.dtype, z.size(), z.shape)"
   ]
  },
  {
   "cell_type": "code",
   "execution_count": 103,
   "id": "fe49e231-09ce-4746-9664-63e55388bf46",
   "metadata": {},
   "outputs": [
    {
     "name": "stdout",
     "output_type": "stream",
     "text": [
      "tensor([5.5000, 3.0000])\n",
      "tensor([[1., 1., 1.],\n",
      "        [1., 1., 1.],\n",
      "        [1., 1., 1.],\n",
      "        [1., 1., 1.],\n",
      "        [1., 1., 1.]])\n",
      "tensor([[0.0764, 0.9861, 0.5350],\n",
      "        [0.9027, 0.8712, 0.0149],\n",
      "        [0.1550, 0.0577, 0.3257],\n",
      "        [0.8690, 0.7379, 0.0537],\n",
      "        [0.8388, 0.9227, 0.2912]])\n",
      "tensor([[1.0764, 1.9861, 1.5350],\n",
      "        [1.9027, 1.8712, 1.0149],\n",
      "        [1.1550, 1.0577, 1.3257],\n",
      "        [1.8690, 1.7379, 1.0537],\n",
      "        [1.8388, 1.9227, 1.2912]])\n",
      "tensor([[1.0764, 1.9861, 1.5350],\n",
      "        [1.9027, 1.8712, 1.0149],\n",
      "        [1.1550, 1.0577, 1.3257],\n",
      "        [1.8690, 1.7379, 1.0537],\n",
      "        [1.8388, 1.9227, 1.2912]])\n"
     ]
    }
   ],
   "source": [
    "print(x)\n",
    "a = x.new_ones(5,3)\n",
    "print(a)\n",
    "b = torch.rand(5,3)\n",
    "print(b)\n",
    "print(a + b)\n",
    "print(torch.add(a, b))"
   ]
  },
  {
   "cell_type": "code",
   "execution_count": null,
   "id": "eb6d872c-36b1-424d-97a4-d6b8f1398841",
   "metadata": {},
   "outputs": [],
   "source": [
    "#广播\n",
    "print(y, torch.add(x, y))"
   ]
  }
 ],
 "metadata": {
  "kernelspec": {
   "display_name": "Python (dl_env)",
   "language": "python",
   "name": "dl_env"
  },
  "language_info": {
   "codemirror_mode": {
    "name": "ipython",
    "version": 3
   },
   "file_extension": ".py",
   "mimetype": "text/x-python",
   "name": "python",
   "nbconvert_exporter": "python",
   "pygments_lexer": "ipython3",
   "version": "3.9.23"
  }
 },
 "nbformat": 4,
 "nbformat_minor": 5
}
