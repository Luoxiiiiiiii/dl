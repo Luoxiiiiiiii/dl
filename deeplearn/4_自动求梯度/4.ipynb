{
 "cells": [
  {
   "cell_type": "code",
   "execution_count": 7,
   "id": "6875283f-2c68-4b4b-84b7-25dff3b88e16",
   "metadata": {},
   "outputs": [
    {
     "name": "stdout",
     "output_type": "stream",
     "text": [
      "tensor([[1., 1.],\n",
      "        [1., 1.]], requires_grad=True) tensor([[3., 3.],\n",
      "        [3., 3.]], grad_fn=<AddBackward0>)\n",
      "None <AddBackward0 object at 0x000002A4C972C550>\n",
      "True False\n",
      "tensor([[3., 3.],\n",
      "        [3., 3.]], grad_fn=<MulBackward0>)\n",
      "tensor([[6., 6.],\n",
      "        [6., 6.]], grad_fn=<MmBackward0>)\n",
      "tensor(3., grad_fn=<MeanBackward0>) \n",
      "\n",
      "out的grad_fn是<MeanBackward0 object at 0x000002A4C972C220>\n",
      "\n",
      "\n",
      "None\n",
      "<MeanBackward0 object at 0x000002A4C972C220>\n",
      "tensor([[ 0.7444,  1.5641],\n",
      "        [-0.3397,  0.5216]]) \n",
      "\n",
      "0.6225787401199341\n",
      "\n",
      "\n",
      "False\n",
      "True\n",
      "\n",
      "\n",
      "\n",
      "tensor([0.6479])\n",
      "\n",
      "tensor([[-1.2901]])\n",
      "\n",
      "\n",
      "\n",
      "torch.Size([1])\n",
      "\n",
      "torch.Size([1, 1])\n"
     ]
    }
   ],
   "source": [
    "import torch\n",
    "\n",
    "# requires_grad为是否计算梯度\n",
    "'''\n",
    ".grad_fn 就是说该Tensor是不是通过某些运算得到的，若是，则grad_fn返回一个与这些运算相关的对象，否则是None\n",
    "'''\n",
    "x = torch.ones(2, 2, requires_grad=True)\n",
    "\n",
    "y = x + 2\n",
    "print(x, y)\n",
    "print(x.grad_fn, y.grad_fn)\n",
    "#AddBackward0是加法\n",
    "\n",
    "print(x.is_leaf, y.is_leaf) # True False\n",
    "#像x这种直接创建的称为叶子节点,而y不是\n",
    "\n",
    "z = y * x\n",
    "z1 = y @ x\n",
    "print(z)\n",
    "print(z1)\n",
    "out = z.mean()\n",
    "print(out, f\"\\n\\nout的grad_fn是{out.grad_fn}\\n\\n\")\n",
    "\n",
    "print(torch.randn(6).mean().grad_fn)\n",
    "print(torch.randn(6, requires_grad = True).mean().grad_fn)\n",
    "\n",
    "#.requires_grad_()方法\n",
    "a = torch.randn(2, 2)\n",
    "print(a, f\"\\n\\n{a.mean()}\\n\\n\")\n",
    "print(a.requires_grad)\n",
    "print(a.requires_grad_(True).requires_grad)\n",
    "\n",
    "print(f\"\\n\\n\\n{torch.randn(1,)}\\n\\n{torch.randn(1, 1)}\")\n",
    "print(f\"\\n\\n\\n{torch.randn(1,).shape}\\n\\n{torch.randn(1, 1).shape}\")"
   ]
  },
  {
   "cell_type": "code",
   "execution_count": 67,
   "id": "0b1c6d6d-9679-4df1-a845-f9894f683c8f",
   "metadata": {},
   "outputs": [
    {
     "name": "stdout",
     "output_type": "stream",
     "text": [
      "\n",
      "1.0\n",
      "\n",
      "tensor([1.], dtype=torch.float64, requires_grad=True)\n",
      "\n",
      "tensor([0.1294], dtype=torch.float64, requires_grad=True)\n",
      "\n",
      "torch.Size([]) torch.Size([1]) torch.Size([1])\n",
      "tensor(1., dtype=torch.float64, requires_grad=True)\n",
      "tensor(1., dtype=torch.float64)\n",
      "tensor(3., grad_fn=<MeanBackward0>)\n"
     ]
    }
   ],
   "source": [
    "#标量\n",
    "# shape是张量的一个属性，size()是张量的一个方法\n",
    "a = torch.tensor(1., dtype = float, requires_grad = True)# 是一个张量\n",
    "b = torch.tensor([1], dtype = float, requires_grad = True)\n",
    "c = torch.rand(1, dtype = float, requires_grad = True)\n",
    "print(f\"\\n{a}\\n\\n{b}\\n\\n{c}\\n\")\n",
    "print(a.size(), b.size(), c.shape)\n",
    "\n",
    "#梯度\n",
    "print(a)\n",
    "a.backward()\n",
    "out.retain_grad()\n",
    "print(a.grad)\n",
    "print(out)\n",
    "print(out.grad)"
   ]
  }
 ],
 "metadata": {
  "kernelspec": {
   "display_name": "Python (dl_env)",
   "language": "python",
   "name": "dl_env"
  },
  "language_info": {
   "codemirror_mode": {
    "name": "ipython",
    "version": 3
   },
   "file_extension": ".py",
   "mimetype": "text/x-python",
   "name": "python",
   "nbconvert_exporter": "python",
   "pygments_lexer": "ipython3",
   "version": "3.9.23"
  }
 },
 "nbformat": 4,
 "nbformat_minor": 5
}
