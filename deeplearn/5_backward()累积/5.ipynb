{
 "cells": [
  {
   "cell_type": "code",
   "execution_count": 149,
   "id": "446c1662-5c99-45ed-a912-9913e0948497",
   "metadata": {},
   "outputs": [
    {
     "ename": "SyntaxError",
     "evalue": "invalid non-printable character U+00A0 (2499339974.py, line 14)",
     "output_type": "error",
     "traceback": [
      "\u001b[1;36m  Cell \u001b[1;32mIn[149], line 14\u001b[1;36m\u001b[0m\n\u001b[1;33m    out.backward()\u001b[0m\n\u001b[1;37m                  ^\u001b[0m\n\u001b[1;31mSyntaxError\u001b[0m\u001b[1;31m:\u001b[0m invalid non-printable character U+00A0\n"
     ]
    }
   ],
   "source": [
    "import torch\n",
    "import numpy as np\n",
    "\n",
    "x = torch.from_numpy(np.random.randn(5)).requires_grad_(True)\n",
    "y = torch.ones_like(x)\n",
    "print(x, y)\n",
    "\n",
    "z = x + y\n",
    "print(z)\n",
    "\n",
    "out = z.mean()\n",
    "print(f\"\\n\\n{out}\\n\")\n",
    "\n",
    "out.backward()  \n",
    "print(out.grad)"
   ]
  }
 ],
 "metadata": {
  "kernelspec": {
   "display_name": "Python (dl_env)",
   "language": "python",
   "name": "dl_env"
  },
  "language_info": {
   "codemirror_mode": {
    "name": "ipython",
    "version": 3
   },
   "file_extension": ".py",
   "mimetype": "text/x-python",
   "name": "python",
   "nbconvert_exporter": "python",
   "pygments_lexer": "ipython3",
   "version": "3.9.23"
  }
 },
 "nbformat": 4,
 "nbformat_minor": 5
}
