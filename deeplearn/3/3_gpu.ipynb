{
 "cells": [
  {
   "cell_type": "code",
   "execution_count": 15,
   "id": "e476c254-3096-41ac-bd60-eb476eec8d33",
   "metadata": {},
   "outputs": [
    {
     "name": "stdout",
     "output_type": "stream",
     "text": [
      "PyTorch 关联的 CUDA 版本： 12.6\n",
      "是否有可用 GPU： True\n",
      "GPU 数量： 1\n",
      "当前 GPU 名称： NVIDIA GeForce RTX 3060 Laptop GPU\n",
      "cuda:0\n",
      "tensor([[ 2.4979,  0.4687,  0.6412],\n",
      "        [ 1.0303,  1.8010,  1.2871],\n",
      "        [ 1.1092,  1.5985,  0.5291],\n",
      "        [ 0.0353,  0.3811, -1.4210],\n",
      "        [ 0.5024,  0.1332,  0.9852]], device='cuda:0')\n",
      "tensor([[ 2.4979,  0.4687,  0.6412],\n",
      "        [ 1.0303,  1.8010,  1.2871],\n",
      "        [ 1.1092,  1.5985,  0.5291],\n",
      "        [ 0.0353,  0.3811, -1.4210],\n",
      "        [ 0.5024,  0.1332,  0.9852]], dtype=torch.float64)\n"
     ]
    }
   ],
   "source": [
    "import torch  \n",
    "\n",
    "# 查看 PyTorch 编译时使用的 CUDA 版本\n",
    "print(\"PyTorch 关联的 CUDA 版本：\", torch.version.cuda)\n",
    "\n",
    "# 查看是否能检测到 GPU\n",
    "print(\"是否有可用 GPU：\", torch.cuda.is_available())\n",
    "print(\"GPU 数量：\", torch.cuda.device_count())\n",
    "print(\"当前 GPU 名称：\", torch.cuda.get_device_name(0) if torch.cuda.is_available() else \"无\")\n",
    "\n",
    "\n",
    "# 以下代码只有在PyTorch GPU版本上才会执行\n",
    "if torch.cuda.is_available():\n",
    "    device = torch.device(\"cuda\")  # GPU，\n",
    "    y = torch.ones_like(x, device=device)  # 直接创建一个在GPU上的Tensor，这行需要缩进\n",
    "    print(y.device)\n",
    "    x = x.to(device)  # 等价于 .to(\"cuda\")，这行需要缩进\n",
    "    z = x + y  \n",
    "    print(z)  \n",
    "    print(z.to(\"cpu\", torch.double))  # to()还可以同时更改数据类型，这行需要缩进"
   ]
  }
 ],
 "metadata": {
  "kernelspec": {
   "display_name": "Python (dl_env)",
   "language": "python",
   "name": "dl_env"
  },
  "language_info": {
   "codemirror_mode": {
    "name": "ipython",
    "version": 3
   },
   "file_extension": ".py",
   "mimetype": "text/x-python",
   "name": "python",
   "nbconvert_exporter": "python",
   "pygments_lexer": "ipython3",
   "version": "3.9.23"
  }
 },
 "nbformat": 4,
 "nbformat_minor": 5
}
