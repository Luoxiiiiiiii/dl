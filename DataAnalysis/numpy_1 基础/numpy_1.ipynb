{
 "cells": [
  {
   "cell_type": "code",
   "execution_count": 25,
   "id": "b8ffc1ee-7dcd-4403-aff1-49c4243df959",
   "metadata": {},
   "outputs": [
    {
     "name": "stdout",
     "output_type": "stream",
     "text": [
      "[1 2 3]\n",
      "<class 'numpy.ndarray'>\n",
      "[0 1 2]\n",
      "<class 'numpy.ndarray'>\n",
      "[1.  1.1 1.2 1.3 1.4 1.5 1.6 1.7 1.8 1.9 2.  2.1 2.2 2.3 2.4 2.5 2.6 2.7\n",
      " 2.8 2.9 3.  3.1 3.2 3.3 3.4 3.5 3.6 3.7 3.8 3.9]\n",
      "<class 'numpy.ndarray'>\n"
     ]
    }
   ],
   "source": [
    "import numpy as np\n",
    "\n",
    "#都是ndarray数据类型\n",
    "\n",
    "t1 = np.array([1, 2, 3])\n",
    "print(t1)\n",
    "print(type(t1))\n",
    "\n",
    "t2 = np.array(range(3))\n",
    "print(t2)\n",
    "print(type(t2))\n",
    "\n",
    "#和range不同，可以生成小数\n",
    "t3 = np.arange(1, 4, 0.1)\n",
    "print(t3)\n",
    "print(type(t3))"
   ]
  },
  {
   "cell_type": "code",
   "execution_count": 37,
   "id": "c7b4e1ff-4316-4367-a6b9-8cbd2a39ba72",
   "metadata": {},
   "outputs": [
    {
     "name": "stdout",
     "output_type": "stream",
     "text": [
      "<class 'numpy.ndarray'>\n",
      "float64\n",
      "int64\n"
     ]
    }
   ],
   "source": [
    "#dtype是看存放的数据的类型，只能用于ndarray\n",
    "\n",
    "t4 = np.arange(1, 4, 0.5)\n",
    "print(type(t4))\n",
    "print(t4.dtype)\n",
    "print(t2.dtype)"
   ]
  },
  {
   "cell_type": "markdown",
   "id": "458125f5-d755-4deb-bcc0-b15c3ae34a86",
   "metadata": {},
   "source": [
    "![数据类型](数据类型.png)"
   ]
  },
  {
   "cell_type": "code",
   "execution_count": 75,
   "id": "16ff32ab-ee3e-4604-9f77-3e62d6519916",
   "metadata": {},
   "outputs": [
    {
     "name": "stdout",
     "output_type": "stream",
     "text": [
      "float64\n",
      "bool\n",
      "int8\n",
      "[0.03206523 0.42782921 0.80202431 0.78923598 0.18610476 0.16666825\n",
      " 0.39544036 0.84330325 0.96286375 0.73067157]\n",
      "float64\n",
      "[0.03 0.43 0.8  0.79 0.19 0.17 0.4  0.84 0.96 0.73]\n",
      "float64\n"
     ]
    }
   ],
   "source": [
    "#可以指定类型\n",
    "t5 = np.arange(1, 4, dtype = float)\n",
    "print(t5.dtype)\n",
    "\n",
    "t6 = np.array([1, 1, 0, 1, 0, 1], dtype = bool)\n",
    "print(t6.dtype)\n",
    "\n",
    "#astype调整数据类型\n",
    "t7 = t5.astype(\"i1\")\n",
    "print(t7.dtype)\n",
    "\n",
    "#10个从0到1的随机数\n",
    "t8 = np.random.random(10)\n",
    "print(t8)\n",
    "print(t8.dtype)\n",
    "\n",
    "#round()可以用来取小数(np中的取法)\n",
    "t9 = np.round(t8, 2)\n",
    "print(t9)\n",
    "print(t9.dtype)"
   ]
  },
  {
   "cell_type": "code",
   "execution_count": 119,
   "id": "4d1ec6a1-09f4-4d5d-a4bf-ed6f058cae3d",
   "metadata": {},
   "outputs": [
    {
     "name": "stdout",
     "output_type": "stream",
     "text": [
      "(2, 6)\n",
      "(3, 4)\n",
      "[[[ 0  1  2  3]\n",
      "  [ 4  5  6  7]\n",
      "  [ 8  9 10 11]]\n",
      "\n",
      " [[12 13 14 15]\n",
      "  [16 17 18 19]\n",
      "  [20 21 22 23]]]\n",
      "[[[ 0  1  2  3]\n",
      "  [ 4  5  6  7]\n",
      "  [ 8  9 10 11]]\n",
      "\n",
      " [[12 13 14 15]\n",
      "  [16 17 18 19]\n",
      "  [20 21 22 23]]]\n",
      "[ 0  1  2  3  4  5  6  7  8  9 10 11 12 13 14 15 16 17 18 19 20 21 22 23]\n",
      "[[ 0  1  2  3  4  5  6  7  8  9 10 11 12 13 14 15 16 17 18 19 20 21 22 23]]\n",
      "[ 0  1  2  3  4  5  6  7  8  9 10 11 12 13 14 15 16 17 18 19 20 21 22 23]\n"
     ]
    }
   ],
   "source": [
    "#shape方法\n",
    "a = np.array([[1, 2, 3, 7, 3, 9], [4, 5, 6, 8, 0, 1]])\n",
    "print(a.shape)\n",
    "\n",
    "#reshape\n",
    "b = a.reshape(3, 4)\n",
    "print(b.shape)\n",
    "\n",
    "#2块，每一块3行4列 \n",
    "c = np.arange(24).reshape(2, 3, 4)\n",
    "print(c)\n",
    "\n",
    "#reshape是有返回值的，对c不会改变\n",
    "c.reshape(4, 6)\n",
    "print(c)\n",
    "\n",
    "d = c.reshape(24)\n",
    "print(d)\n",
    "\n",
    "e = c.reshape(1, 24)\n",
    "print(e)\n",
    "\n",
    "#flatten展开\n",
    "f = c.flatten()\n",
    "print(f)"
   ]
  },
  {
   "cell_type": "code",
   "execution_count": 129,
   "id": "8721a663-13d0-4d1b-9da6-098e1805db4f",
   "metadata": {},
   "outputs": [
    {
     "name": "stdout",
     "output_type": "stream",
     "text": [
      "[[ 0  1  2  3  4  5]\n",
      " [ 6  7  8  9 10 11]\n",
      " [12 13 14 15 16 17]\n",
      " [18 19 20 21 22 23]]\n",
      "[[ 2  3  4  5  6  7]\n",
      " [ 8  9 10 11 12 13]\n",
      " [14 15 16 17 18 19]\n",
      " [20 21 22 23 24 25]]\n",
      "[[nan inf inf inf inf inf]\n",
      " [inf inf inf inf inf inf]\n",
      " [inf inf inf inf inf inf]\n",
      " [inf inf inf inf inf inf]]\n",
      "[[0.8500452  0.1491979  0.16775777]\n",
      " [0.17789733 0.55314607 0.42405078]\n",
      " [0.50144287 0.03425763 0.02395635]] [[0.52931573 0.20078482 0.21531468]\n",
      " [0.38839363 0.10930718 0.69755324]\n",
      " [0.72398808 0.62349412 0.90735538]]\n",
      "[[0.4499423  0.02995667 0.03612071]\n",
      " [0.06909419 0.06046284 0.295798  ]\n",
      " [0.36303866 0.02135943 0.02173693]]\n"
     ]
    },
    {
     "name": "stderr",
     "output_type": "stream",
     "text": [
      "C:\\Users\\a1867\\AppData\\Local\\Temp\\ipykernel_26060\\2982021560.py:8: RuntimeWarning: divide by zero encountered in divide\n",
      "  print(g / 0)\n",
      "C:\\Users\\a1867\\AppData\\Local\\Temp\\ipykernel_26060\\2982021560.py:8: RuntimeWarning: invalid value encountered in divide\n",
      "  print(g / 0)\n"
     ]
    }
   ],
   "source": [
    "#广播机制\n",
    "g = c.reshape(4, 6)\n",
    "print(g)\n",
    "print(g + 2)\n",
    "\n",
    "#nan是0/0.inf是x(x不=0)/0\n",
    "#nan表示不是数字，inf表示无穷\n",
    "print(g / 0)\n",
    "\n",
    "k1 = np.random.random(9)\n",
    "k2 = np.random.random(9)\n",
    "k1_1 = k1.reshape(3, 3)\n",
    "k2_1 = k2.reshape(3, 3)\n",
    "print(k1_1, k2_1)\n",
    "#和矩阵相乘不一样\n",
    "print(k1_1 * k2_1)"
   ]
  },
  {
   "cell_type": "code",
   "execution_count": 131,
   "id": "2d9df004-f5d9-479e-a8fe-7268dccd9f6a",
   "metadata": {},
   "outputs": [
    {
     "name": "stdout",
     "output_type": "stream",
     "text": [
      "[[ 0  1  2  3]\n",
      " [ 3  4  5  6]\n",
      " [ 6  7  8  9]\n",
      " [ 9 10 11 12]\n",
      " [12 13 14 15]\n",
      " [15 16 17 18]]\n"
     ]
    }
   ],
   "source": [
    "#仍然是广播机制\n",
    "m = np.arange(24).reshape(6, 4)\n",
    "n = np.arange(6).reshape(6, 1)\n",
    "print(m - n) \n",
    "\n",
    "#另外，比如shape(3, 3, 2)和(3, 2)是可以计算的"
   ]
  }
 ],
 "metadata": {
  "kernelspec": {
   "display_name": "Python (dl_env)",
   "language": "python",
   "name": "dl_env"
  },
  "language_info": {
   "codemirror_mode": {
    "name": "ipython",
    "version": 3
   },
   "file_extension": ".py",
   "mimetype": "text/x-python",
   "name": "python",
   "nbconvert_exporter": "python",
   "pygments_lexer": "ipython3",
   "version": "3.9.23"
  }
 },
 "nbformat": 4,
 "nbformat_minor": 5
}
